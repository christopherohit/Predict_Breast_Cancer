{
 "cells": [
  {
   "cell_type": "markdown",
   "metadata": {},
   "source": [
    "<center>\n",
    "    <img src=\"https://cf-courses-data.s3.us.cloud-object-storage.appdomain.cloud/IBMDeveloperSkillsNetwork-DS0105EN-SkillsNetwork/labs/Module2/images/SN_web_lightmode.png\" width=\"300\" alt=\"cognitiveclass.ai logo\">\n",
    "</center>\n"
   ]
  },
  {
   "cell_type": "markdown",
   "metadata": {},
   "source": [
    "#### Peer-graded Assignment\n"
   ]
  },
  {
   "cell_type": "markdown",
   "metadata": {},
   "source": [
    "This is a final assignments: Create and share your Jupyter Notebook"
   ]
  },
  {
   "cell_type": "markdown",
   "metadata": {},
   "source": [
    "* Python\n",
    "* R\n",
    "* SQL\n",
    "* Java\n",
    "* Julia\n",
    "* Scala\n",
    "* C/C++\n",
    "* JavaScript\n",
    "* Swift\n",
    "* Go\n",
    "* MATLAB\n",
    "* SAS"
   ]
  },
  {
   "cell_type": "markdown",
   "metadata": {},
   "source": [
    "### List Libraby For Data Science in Python:\n",
    "1. Tensorflow\n",
    "2. Numpy\n",
    "3. SciPy\n",
    "4. Pandas\n",
    "5. Matplotlib\n",
    "6. Keras\n",
    "7. Scikit-Learn\n",
    "8. PyTorch"
   ]
  },
  {
   "cell_type": "markdown",
   "metadata": {},
   "source": [
    "### List Library For Data Science in R:\n",
    "1. dplyr\n",
    "2. ggplot\n",
    "3. Caret\n",
    "4. tidyr\n",
    "5. stringr\n",
    "6. Shiny"
   ]
  },
  {
   "cell_type": "markdown",
   "metadata": {},
   "source": [
    "| Name | Description |\n",
    "| :- | -: |\n",
    "| Apache Hadoop | create programming models for massive data volumes across multiple clusters of machines |\n",
    "| Apache Spark  | most popular open-source data processing and analytics tools that can handle massive volumes of data |\n",
    "| Jupyter Notebook | combine code, computations, data visualizations, etc., in a single file and collaborate among themselves |\n",
    "| Tableau | a data visualization tool that helps in data exploration and analysis by creating interactive charts, graphs, etc. |\n"
   ]
  },
  {
   "cell_type": "markdown",
   "metadata": {},
   "source": [
    "## An arithmetic expression in which the only operators are +,, - and exponentiation, is called a simple arithmetic expression.\n",
    "\n",
    "1. 5 --  a number is an arithmetic expression\n",
    "2. (3 + 4) -- the  sum of numbers is an arithmetic expression\n",
    "3. (7 - 3) --  the difference  of two  numbers is an arithmetic expression\n",
    "4. (2 x 5),    25 -- a product of two numbers is an arithmetic expression.  We indicate the product with either a \"times sign\", \"x\" or a raised dot, \".\".   The raising of the dot is important as it makes it easy to distinguish a product from a decimal.  For example, it allows us to distinguish 314 from 3.14.\n",
    "5. (6 x (3 + 4)),   6(3 + 4)  -- by using parentheses we can indicate the order in which the operations are to be done.  In this example the parentheses indicate that the addition is to be done before the multiplication.\n",
    "6. 6(3 + 4)-- This is another way of writing (6 x (3 + 4)).   It is a common practice to omit the product sign when one factor is surrounded by parentheses.  The multiplication is indicated by the juxtaposition of factors.\n",
    "7. ((3 + 4)(6 - 2)) -- This is another example of juxtaposition.  It is the same as writing ((3 + 4)x(6 - 2)) .  The same convention is used when both factors are parenthesized.\n",
    "8. 2^3 -- this is an abbreviation for the arithymetic expression ((2x2)x2)\n",
    "9. (2^3 + 5) -- this is an abbreviation for the arithmetic expression (((2x2)x2) + 5)\n",
    "10. (2^3 + 5)^2 -- this is an abbreviation for the arithmetic expression (2^3 + 5)x(2^3 + 5)\n",
    "11. 7 - 6 + 2 -- while  expressions involving several operators are sometimes written without using parentheses this is only allowed when rules are given that indicate how the parentheses should be inserted.  Such rules are called precedence rules.  We shall introduce some precedence rules at a later point,  for the time being we will always put in the parentheses.\n"
   ]
  },
  {
   "cell_type": "code",
   "execution_count": 1,
   "metadata": {},
   "outputs": [
    {
     "name": "stdin",
     "output_type": "stream",
     "text": [
      "Enter First Number:  3\n",
      "Enter Second Number:  4\n"
     ]
    },
    {
     "name": "stdout",
     "output_type": "stream",
     "text": [
      "Enter which operation would you like to perform?\n"
     ]
    },
    {
     "name": "stdin",
     "output_type": "stream",
     "text": [
      "Enter any of these char for specific operation +,-,*,/:  +\n"
     ]
    },
    {
     "name": "stdout",
     "output_type": "stream",
     "text": [
      "3 + 4 : 7\n"
     ]
    }
   ],
   "source": [
    "num1 = int(input(\"Enter First Number: \"))\n",
    "num2 = int(input(\"Enter Second Number: \"))\n",
    "\n",
    "print(\"Enter which operation would you like to perform?\")\n",
    "ch = input(\"Enter any of these char for specific operation +,-,*,/: \")\n",
    "\n",
    "result = 0\n",
    "if ch == '+':\n",
    "    result = num1 + num2\n",
    "elif ch == '-':\n",
    "    result = num1 - num2\n",
    "elif ch == '*':\n",
    "    result = num1 * num2\n",
    "elif ch == '/':\n",
    "    result = num1 / num2\n",
    "else:\n",
    "    print(\"Input character is not recognized!\")\n",
    "\n",
    "print(num1, ch , num2, \"=\", result)"
   ]
  },
  {
   "cell_type": "code",
   "execution_count": null,
   "metadata": {},
   "outputs": [],
   "source": [
    "\n",
    "from dateutil import relativedelta\n",
    " \n",
    "def convert(n):\n",
    "    rd = relativedelta.relativedelta(minutes=n)\n",
    "    return \"{}:{:02d}\".format(rd.hours, rd.minutes)\n",
    " \n",
    "# Driver program\n",
    "n = 12345\n",
    "print(convert(n))"
   ]
  },
  {
   "cell_type": "markdown",
   "metadata": {},
   "source": [
    "# Author: HUỲNH TRỌNG NHÂN"
   ]
  },
  {
   "cell_type": "code",
   "execution_count": null,
   "metadata": {},
   "outputs": [],
   "source": []
  }
 ],
 "metadata": {
  "kernelspec": {
   "display_name": "Python",
   "language": "python",
   "name": "conda-env-python-py"
  },
  "language_info": {
   "codemirror_mode": {
    "name": "ipython",
    "version": 3
   },
   "file_extension": ".py",
   "mimetype": "text/x-python",
   "name": "python",
   "nbconvert_exporter": "python",
   "pygments_lexer": "ipython3",
   "version": "3.7.12"
  }
 },
 "nbformat": 4,
 "nbformat_minor": 4
}
