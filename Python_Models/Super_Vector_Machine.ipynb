{
 "cells": [
  {
   "cell_type": "code",
   "execution_count": 2,
   "source": [
    "import pandas as pd\r\n",
    "from sklearn.svm import SVC\r\n",
    "import matplotlib.pyplot as plt\r\n",
    "import warnings\r\n",
    "import pandas_profiling\r\n",
    "warnings.filterwarnings(\"ignore\")\r\n",
    "print()"
   ],
   "outputs": [],
   "metadata": {}
  },
  {
   "cell_type": "code",
   "execution_count": 3,
   "source": [
    "data_frame = pd.read_csv(\"data.csv\")\r\n",
    "print(data_frame.describe())"
   ],
   "outputs": [
    {
     "output_type": "stream",
     "name": "stdout",
     "text": [
      "                 id  radius_mean  texture_mean  perimeter_mean    area_mean  \\\n",
      "count  5.690000e+02   569.000000    569.000000      569.000000   569.000000   \n",
      "mean   3.037183e+07    14.127292     19.289649       91.969033   654.889104   \n",
      "std    1.250206e+08     3.524049      4.301036       24.298981   351.914129   \n",
      "min    8.670000e+03     6.981000      9.710000       43.790000   143.500000   \n",
      "25%    8.692180e+05    11.700000     16.170000       75.170000   420.300000   \n",
      "50%    9.060240e+05    13.370000     18.840000       86.240000   551.100000   \n",
      "75%    8.813129e+06    15.780000     21.800000      104.100000   782.700000   \n",
      "max    9.113205e+08    28.110000     39.280000      188.500000  2501.000000   \n",
      "\n",
      "       smoothness_mean  compactness_mean  concavity_mean  concave points_mean  \\\n",
      "count       569.000000        569.000000      569.000000           569.000000   \n",
      "mean          0.096360          0.104341        0.088799             0.048919   \n",
      "std           0.014064          0.052813        0.079720             0.038803   \n",
      "min           0.052630          0.019380        0.000000             0.000000   \n",
      "25%           0.086370          0.064920        0.029560             0.020310   \n",
      "50%           0.095870          0.092630        0.061540             0.033500   \n",
      "75%           0.105300          0.130400        0.130700             0.074000   \n",
      "max           0.163400          0.345400        0.426800             0.201200   \n",
      "\n",
      "       symmetry_mean  ...  texture_worst  perimeter_worst   area_worst  \\\n",
      "count     569.000000  ...     569.000000       569.000000   569.000000   \n",
      "mean        0.181162  ...      25.677223       107.261213   880.583128   \n",
      "std         0.027414  ...       6.146258        33.602542   569.356993   \n",
      "min         0.106000  ...      12.020000        50.410000   185.200000   \n",
      "25%         0.161900  ...      21.080000        84.110000   515.300000   \n",
      "50%         0.179200  ...      25.410000        97.660000   686.500000   \n",
      "75%         0.195700  ...      29.720000       125.400000  1084.000000   \n",
      "max         0.304000  ...      49.540000       251.200000  4254.000000   \n",
      "\n",
      "       smoothness_worst  compactness_worst  concavity_worst  \\\n",
      "count        569.000000         569.000000       569.000000   \n",
      "mean           0.132369           0.254265         0.272188   \n",
      "std            0.022832           0.157336         0.208624   \n",
      "min            0.071170           0.027290         0.000000   \n",
      "25%            0.116600           0.147200         0.114500   \n",
      "50%            0.131300           0.211900         0.226700   \n",
      "75%            0.146000           0.339100         0.382900   \n",
      "max            0.222600           1.058000         1.252000   \n",
      "\n",
      "       concave points_worst  symmetry_worst  fractal_dimension_worst  \\\n",
      "count            569.000000      569.000000               569.000000   \n",
      "mean               0.114606        0.290076                 0.083946   \n",
      "std                0.065732        0.061867                 0.018061   \n",
      "min                0.000000        0.156500                 0.055040   \n",
      "25%                0.064930        0.250400                 0.071460   \n",
      "50%                0.099930        0.282200                 0.080040   \n",
      "75%                0.161400        0.317900                 0.092080   \n",
      "max                0.291000        0.663800                 0.207500   \n",
      "\n",
      "       Unnamed: 32  \n",
      "count          0.0  \n",
      "mean           NaN  \n",
      "std            NaN  \n",
      "min            NaN  \n",
      "25%            NaN  \n",
      "50%            NaN  \n",
      "75%            NaN  \n",
      "max            NaN  \n",
      "\n",
      "[8 rows x 32 columns]\n"
     ]
    }
   ],
   "metadata": {}
  },
  {
   "cell_type": "code",
   "execution_count": 7,
   "source": [
    "data_frame = data_frame.dropna(axis=1)"
   ],
   "outputs": [],
   "metadata": {}
  },
  {
   "cell_type": "code",
   "execution_count": null,
   "source": [
    "# Make a report\r\n",
    "profile = data_frame.profile_report(title = \"Report_for_data\")\r\n",
    "profile.to_file(output_file=\"Report_for_data.html\")"
   ],
   "outputs": [],
   "metadata": {}
  },
  {
   "cell_type": "code",
   "execution_count": 9,
   "source": [
    "from sklearn.model_selection import train_test_split\r\n",
    "y = data_frame.diagnosis\r\n",
    "feature = []\r\n",
    "for i in data_frame.columns:\r\n",
    "    if i != \"diagnosis\" and i != \"id\":\r\n",
    "        feature.append(i)\r\n",
    "x = data_frame[feature]\r\n",
    "data_model = SVC()\r\n"
   ],
   "outputs": [],
   "metadata": {}
  },
  {
   "cell_type": "code",
   "execution_count": 10,
   "source": [
    "from sklearn.metrics import confusion_matrix, accuracy_score"
   ],
   "outputs": [],
   "metadata": {}
  },
  {
   "cell_type": "code",
   "execution_count": 11,
   "source": [
    "# Split data\r\n",
    "x_train,x_test,y_train,y_test = train_test_split(x ,y ,test_size=0.33 , random_state=42)\r\n",
    "pred_train = data_model.fit(x_train,y_train)\r\n",
    "true_train = data_model.predict(x_train)\r\n",
    "print(\"Confusion Matrix on train data: \", confusion_matrix(true_train , y_train , labels=['M','B']))\r\n",
    "print(\"Accuracy on train data: \", accuracy_score(true_train , y_train))"
   ],
   "outputs": [
    {
     "output_type": "stream",
     "name": "stdout",
     "text": [
      "Confusion Matrix on train data:  [[115   6]\n",
      " [ 30 230]]\n",
      "Accuracy on train data:  0.905511811023622\n"
     ]
    }
   ],
   "metadata": {}
  },
  {
   "cell_type": "code",
   "execution_count": 13,
   "source": [
    "true_test = pred_train.predict(x_test)\r\n",
    "print(\"Confusion Matrix on train data: \", confusion_matrix(true_test , y_test , labels=['M','B']))\r\n",
    "print(\"Accuracy on train data: \", accuracy_score(true_test , y_test))"
   ],
   "outputs": [
    {
     "output_type": "stream",
     "name": "stdout",
     "text": [
      "Confusion Matrix on train data:  [[ 59   1]\n",
      " [  8 120]]\n",
      "Accuracy on train data:  0.9521276595744681\n"
     ]
    }
   ],
   "metadata": {}
  },
  {
   "cell_type": "code",
   "execution_count": 14,
   "source": [
    "# Check Overfitting\r\n",
    "\r\n",
    "train_score , test_score = list(), list()\r\n",
    "\r\n",
    "# Run through dept tree\r\n",
    "value = [i for i in range(1,100)]\r\n",
    "for i in value:\r\n",
    "    # configure models\r\n",
    "    model = SVC(max_iter=i)\r\n",
    "    # fit model on training data set\r\n",
    "    model.fit(x_train,y_train)\r\n",
    "    #evaluate on training data set\r\n",
    "    train_true_1 = model.predict(x_train)\r\n",
    "    train_accuracy = accuracy_score(y_train,train_true_1)\r\n",
    "    train_score.append(train_accuracy)\r\n",
    "\r\n",
    "    # evaluate on testing data set\r\n",
    "\r\n",
    "    test_true_1 = model.predict(x_test)\r\n",
    "    test_accuracy_1 = accuracy_score(y_test,test_true_1)\r\n",
    "    test_score.append(test_accuracy_1)\r\n",
    "\r\n",
    "    # Print summarize process\r\n",
    "    print('>%d, train: %.3f, test: %.3f' % (i, train_accuracy , test_accuracy_1))\r\n"
   ],
   "outputs": [
    {
     "output_type": "stream",
     "name": "stdout",
     "text": [
      ">1, train: 0.310, test: 0.303\n",
      ">2, train: 0.622, test: 0.638\n",
      ">3, train: 0.617, test: 0.622\n",
      ">4, train: 0.696, test: 0.681\n",
      ">5, train: 0.753, test: 0.745\n",
      ">6, train: 0.756, test: 0.745\n",
      ">7, train: 0.745, test: 0.723\n",
      ">8, train: 0.606, test: 0.612\n",
      ">9, train: 0.646, test: 0.622\n",
      ">10, train: 0.675, test: 0.665\n",
      ">11, train: 0.596, test: 0.596\n",
      ">12, train: 0.570, test: 0.574\n",
      ">13, train: 0.472, test: 0.463\n",
      ">14, train: 0.415, test: 0.431\n",
      ">15, train: 0.373, test: 0.378\n",
      ">16, train: 0.354, test: 0.346\n",
      ">17, train: 0.344, test: 0.351\n",
      ">18, train: 0.257, test: 0.250\n",
      ">19, train: 0.252, test: 0.255\n",
      ">20, train: 0.260, test: 0.266\n",
      ">21, train: 0.289, test: 0.282\n",
      ">22, train: 0.336, test: 0.351\n",
      ">23, train: 0.249, test: 0.245\n",
      ">24, train: 0.265, test: 0.266\n",
      ">25, train: 0.228, test: 0.213\n",
      ">26, train: 0.213, test: 0.202\n",
      ">27, train: 0.307, test: 0.298\n",
      ">28, train: 0.199, test: 0.197\n",
      ">29, train: 0.171, test: 0.160\n",
      ">30, train: 0.150, test: 0.128\n",
      ">31, train: 0.157, test: 0.160\n",
      ">32, train: 0.199, test: 0.191\n",
      ">33, train: 0.375, test: 0.378\n",
      ">34, train: 0.388, test: 0.388\n",
      ">35, train: 0.396, test: 0.388\n",
      ">36, train: 0.517, test: 0.537\n",
      ">37, train: 0.738, test: 0.734\n",
      ">38, train: 0.803, test: 0.809\n",
      ">39, train: 0.840, test: 0.830\n",
      ">40, train: 0.845, test: 0.835\n",
      ">41, train: 0.871, test: 0.872\n",
      ">42, train: 0.866, test: 0.878\n",
      ">43, train: 0.890, test: 0.904\n",
      ">44, train: 0.892, test: 0.910\n",
      ">45, train: 0.900, test: 0.926\n",
      ">46, train: 0.906, test: 0.931\n",
      ">47, train: 0.903, test: 0.931\n",
      ">48, train: 0.903, test: 0.920\n",
      ">49, train: 0.900, test: 0.926\n",
      ">50, train: 0.892, test: 0.931\n",
      ">51, train: 0.890, test: 0.936\n",
      ">52, train: 0.890, test: 0.936\n",
      ">53, train: 0.892, test: 0.936\n",
      ">54, train: 0.887, test: 0.931\n",
      ">55, train: 0.900, test: 0.957\n",
      ">56, train: 0.895, test: 0.952\n",
      ">57, train: 0.900, test: 0.952\n",
      ">58, train: 0.900, test: 0.952\n",
      ">59, train: 0.900, test: 0.952\n",
      ">60, train: 0.887, test: 0.957\n",
      ">61, train: 0.898, test: 0.952\n",
      ">62, train: 0.892, test: 0.936\n",
      ">63, train: 0.903, test: 0.941\n",
      ">64, train: 0.906, test: 0.941\n",
      ">65, train: 0.903, test: 0.947\n",
      ">66, train: 0.903, test: 0.952\n",
      ">67, train: 0.906, test: 0.952\n",
      ">68, train: 0.903, test: 0.952\n",
      ">69, train: 0.903, test: 0.952\n",
      ">70, train: 0.903, test: 0.952\n",
      ">71, train: 0.903, test: 0.952\n",
      ">72, train: 0.903, test: 0.952\n",
      ">73, train: 0.903, test: 0.952\n",
      ">74, train: 0.906, test: 0.952\n",
      ">75, train: 0.906, test: 0.952\n",
      ">76, train: 0.906, test: 0.952\n",
      ">77, train: 0.906, test: 0.952\n",
      ">78, train: 0.906, test: 0.952\n",
      ">79, train: 0.906, test: 0.952\n",
      ">80, train: 0.906, test: 0.952\n",
      ">81, train: 0.906, test: 0.952\n",
      ">82, train: 0.906, test: 0.952\n",
      ">83, train: 0.906, test: 0.952\n",
      ">84, train: 0.906, test: 0.952\n",
      ">85, train: 0.906, test: 0.952\n",
      ">86, train: 0.906, test: 0.952\n",
      ">87, train: 0.906, test: 0.952\n",
      ">88, train: 0.906, test: 0.952\n",
      ">89, train: 0.906, test: 0.952\n",
      ">90, train: 0.906, test: 0.952\n",
      ">91, train: 0.906, test: 0.952\n",
      ">92, train: 0.906, test: 0.952\n",
      ">93, train: 0.906, test: 0.952\n",
      ">94, train: 0.906, test: 0.952\n",
      ">95, train: 0.906, test: 0.952\n",
      ">96, train: 0.906, test: 0.952\n",
      ">97, train: 0.906, test: 0.952\n",
      ">98, train: 0.906, test: 0.952\n",
      ">99, train: 0.906, test: 0.952\n"
     ]
    }
   ],
   "metadata": {}
  },
  {
   "cell_type": "code",
   "execution_count": 15,
   "source": [
    "plt.plot(value,train_score, '-o', label = \"Train\")\r\n",
    "plt.plot(value,test_score , '-o', label = 'Test')\r\n",
    "plt.legend()\r\n",
    "plt.show()"
   ],
   "outputs": [
    {
     "output_type": "display_data",
     "data": {
      "image/png": "[encoded data removed]",
      "text/plain": [
       "<Figure size 432x288 with 1 Axes>"
      ]
     },
     "metadata": {
      "needs_background": "light"
     }
    }
   ],
   "metadata": {}
  }
 ],
 "metadata": {
  "orig_nbformat": 4,
  "language_info": {
   "name": "python",
   "version": "3.9.7",
   "mimetype": "text/x-python",
   "codemirror_mode": {
    "name": "ipython",
    "version": 3
   },
   "pygments_lexer": "ipython3",
   "nbconvert_exporter": "python",
   "file_extension": ".py"
  },
  "kernelspec": {
   "name": "python3",
   "display_name": "Python 3.9.7 64-bit"
  },
  "interpreter": {
   "hash": "bbb2634195a04e7cf203c6304b0043cf9d9a4b5bbd3e41957255823f696ac749"
  }
 },
 "nbformat": 4,
 "nbformat_minor": 2
}